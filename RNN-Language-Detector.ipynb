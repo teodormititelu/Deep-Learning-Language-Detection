{
  "nbformat": 4,
  "nbformat_minor": 0,
  "metadata": {
    "colab": {
      "provenance": [],
      "gpuType": "T4"
    },
    "kernelspec": {
      "name": "python3",
      "display_name": "Python 3"
    },
    "language_info": {
      "name": "python"
    },
    "accelerator": "GPU"
  },
  "cells": [
    {
      "cell_type": "code",
      "execution_count": null,
      "metadata": {
        "id": "vau9wbyvlo3b"
      },
      "outputs": [],
      "source": [
        "import zipfile\n",
        "import os\n",
        "import glob\n",
        "import json\n",
        "import re\n",
        "from os import path\n",
        "from io import open\n",
        "import glob\n",
        "from collections import Counter\n",
        "from __future__ import unicode_literals, print_function, division\n",
        "from google.colab import files, auth, drive\n",
        "from torch.optim.lr_scheduler import LambdaLR\n",
        "from urllib.request import urlopen\n",
        "from typing import List, Dict, Callable\n",
        "import math\n",
        "import numpy as np\n",
        "import torch\n",
        "from torch.utils.data import Dataset, DataLoader, TensorDataset\n",
        "from torch.utils.data import RandomSampler, Sampler\n",
        "from torch import nn, Tensor\n",
        "from torch.optim import SGD, Adam\n",
        "import unicodedata\n",
        "import random\n",
        "import string\n",
        "from matplotlib import pyplot as plt\n",
        "from sklearn.model_selection import train_test_split\n",
        "from sklearn.utils import shuffle\n",
        "from sklearn.metrics import accuracy_score, confusion_matrix, ConfusionMatrixDisplay\n",
        "\n",
        "drive.mount('/content/drive')\n",
        "\n",
        "zip_ref = zipfile.ZipFile(\"/content/drive/My Drive/Dataset.zip\", 'r')\n",
        "zip_ref.extractall(\"tmp\")\n",
        "zip_ref.close()\n",
        "\n",
        "train_path = 'tmp/train-data-split/'\n",
        "test_path = 'tmp/test-data-split/'"
      ]
    },
    {
      "cell_type": "code",
      "source": [
        "os.rename(train_path+'1c11a25f50b0b324cdd8732ba7a7e880b081b543index_2.mov', train_path+'1c11a25f50b0b324cdd8732ba7a7e880b081b543index_2')\n",
        "os.rename(train_path+'b89fe67d4acab4275fcd213af5770b9ba6a1f124data_silo-update_insert_0', train_path+'b89fe67d4acab4275fcd213af5770b9ba6a1f124data_silo-update&insert_0')\n",
        "os.rename(train_path+'9604d6d43c4afd528fb4a30efb1183fb66c9ff6dAFTER_INSERT_basic_0', train_path+'9604d6d43c4afd528fb4a30efb1183fb66c9ff6dAFTER|INSERT|basic_0')\n",
        "\n",
        "#print( open('/content/drive/MyDrive/DeepLearn tema 3/train-data-split/1c11a25f50b0b324cdd8732ba7a7e880b081b543index_2').read() )\n",
        "#print( open('/content/drive/MyDrive/DeepLearn tema 3/train-data-split/b89fe67d4acab4275fcd213af5770b9ba6a1f124data_silo-update&insert_0').read() )\n",
        "#print( open(train_path+'9604d6d43c4afd528fb4a30efb1183fb66c9ff6dAFTER|INSERT|basic_0').read() )"
      ],
      "metadata": {
        "id": "2T7Xw4M6VWMG"
      },
      "execution_count": 4,
      "outputs": []
    },
    {
      "cell_type": "code",
      "source": [
        "train_dict = json.load(open('tmp/code-train-gt.json'))\n",
        "test_dict = json.load(open('tmp/code-test-gt.json'))\n",
        "\n",
        "print( len(train_dict))\n",
        "print( len(test_dict))\n",
        "\n",
        "from tqdm import tqdm\n",
        "x_train = [open(train_path+file_path).read() for file_path in tqdm(list(train_dict.keys()))]\n",
        "\n",
        "label_dict = {}\n",
        "for idx,label in enumerate(list(set(train_dict.values()))):\n",
        "  label_dict[label] = idx\n",
        "  label_dict[idx] = label\n",
        "y_train = [label_dict[label] for label in list(train_dict.values())]"
      ],
      "metadata": {
        "colab": {
          "base_uri": "https://localhost:8080/"
        },
        "id": "pSuuzMLn9M-B",
        "outputId": "b827380a-4e5a-4733-e0e5-4cb375fa2ae5"
      },
      "execution_count": 5,
      "outputs": [
        {
          "output_type": "stream",
          "name": "stdout",
          "text": [
            "11103\n",
            "2995\n"
          ]
        },
        {
          "output_type": "stream",
          "name": "stderr",
          "text": [
            "100%|██████████| 11103/11103 [00:00<00:00, 26781.51it/s]\n"
          ]
        }
      ]
    },
    {
      "cell_type": "code",
      "source": [
        "test_data = [ open(test_path+file_path).read() for file_path in list(test_dict.keys())]\n",
        "test_labels = list(test_dict.values())"
      ],
      "metadata": {
        "id": "eNoACGQwgCu4"
      },
      "execution_count": 6,
      "outputs": []
    },
    {
      "cell_type": "code",
      "source": [
        "\n",
        "train_data, val_data, train_labels, val_labels = train_test_split(x_train, y_train, test_size=0.2, random_state=42)\n",
        "\n",
        "print( len(train_data) )\n",
        "print( len(val_data) )"
      ],
      "metadata": {
        "colab": {
          "base_uri": "https://localhost:8080/"
        },
        "id": "XWihR23ff_Ja",
        "outputId": "95b4ccfc-dd5b-4e70-be2f-1d58296d99b6"
      },
      "execution_count": 7,
      "outputs": [
        {
          "output_type": "stream",
          "name": "stdout",
          "text": [
            "8882\n",
            "2221\n"
          ]
        }
      ]
    },
    {
      "cell_type": "code",
      "source": [
        "class Vocabulary:\n",
        "    \"\"\"\n",
        "    Helper class that maps characters to unique indices and the other way around\n",
        "    \"\"\"\n",
        "    def __init__(self, text: str):\n",
        "        characters_set = set(['<UNK>', '<PAD>']) \n",
        "        word_set = set(['<UNK>', '<PAD>']) \n",
        "        \n",
        "        characters_set.update(text)\n",
        "        word_set.update( re.findall(r'\\b\\w+\\b|[^\\w\\s]', text) )\n",
        "        \n",
        "        self.char_to_idx = {char:idx for (idx, char) \n",
        "                            in enumerate(characters_set)}\n",
        "        self.idx_to_char = {idx:char for (idx, char) \n",
        "                            in enumerate(characters_set)}\n",
        "\n",
        "        self.word_to_idx = {word:idx for (idx, word)\n",
        "                            in enumerate(word_set)}\n",
        "        self.idx_to_word = {idx:word for (idx, word)\n",
        "                            in enumerate(word_set)}\n",
        "   \n",
        "   \n",
        "    def size(self):\n",
        "        return len(self.word_to_idx)\n",
        "\n",
        "    def __str__(self):\n",
        "        return str(self.word_to_idx)\n",
        "\n",
        "#vocab = Vocabulary(string.printable)\n",
        "#vocab = Vocabulary(''.join([chr(i) for i in range(256)]))\n",
        "vocab = Vocabulary(''.join(train_data))\n",
        "\n",
        "print(\"Vocabulary size: \", vocab.size())\n",
        "print(\"Vocabulary: \\n\", vocab)\n",
        "\n",
        "#for code_snippet in train_data:\n"
      ],
      "metadata": {
        "colab": {
          "base_uri": "https://localhost:8080/"
        },
        "id": "I3xOsBV0Yy2e",
        "outputId": "3c82e736-618a-4bfd-f21d-a49952b8385e"
      },
      "execution_count": 8,
      "outputs": [
        {
          "output_type": "stream",
          "name": "stdout",
          "text": [
            "Vocabulary size:  92521\n"
          ]
        }
      ]
    },
    {
      "cell_type": "code",
      "source": [
        "def text_to_tensor(text: str, vocab: Vocabulary) -> torch.LongTensor:\n",
        "\n",
        "    text_indices = []\n",
        "\n",
        "    for c in re.findall(r'\\b\\w+\\b|[^\\w\\s]', text):\n",
        "      if c in vocab.word_to_idx:\n",
        "        text_indices.append(vocab.word_to_idx[c])\n",
        "      else: text_indices.append(vocab.word_to_idx['<UNK>'])\n",
        "    \n",
        "    return torch.tensor(text_indices)\n",
        "  \n",
        "def tensor_to_text(x: torch.LongTensor, vocab: Vocabulary) -> str:\n",
        "\n",
        "    return \" \".join(vocab.idx_to_word[idx.item()] for idx in x)\n",
        "\n",
        "def batch_tensor_to_text(x: torch.LongTensor, vocab: Vocabulary) -> List[str]:\n",
        "\n",
        "    assert len(x.size()) == 2, \"wrong number of dimensions (should be 2)\"\n",
        "    outputs = []\n",
        "    for batch_idx in range(len(x)):\n",
        "        outputs.append(tensor_to_text(x[batch_idx], vocab))\n",
        "            \n",
        "    return outputs \n",
        "\n",
        "# setup device (CPU/GPU)\n",
        "if torch.cuda.is_available():\n",
        "    device = torch.device('cuda:0')\n",
        "else:\n",
        "    device = torch.device('cpu')\n"
      ],
      "metadata": {
        "id": "0hErbmZr33hU"
      },
      "execution_count": 153,
      "outputs": []
    },
    {
      "cell_type": "code",
      "source": [
        "print( tensor_to_text( text_to_tensor(train_data[0], vocab), vocab) )\n"
      ],
      "metadata": {
        "colab": {
          "base_uri": "https://localhost:8080/"
        },
        "id": "W_nlb1ere3ok",
        "outputId": "ae986dcd-e7b0-41a9-9158-50f1b250f5ae"
      },
      "execution_count": 155,
      "outputs": [
        {
          "output_type": "stream",
          "name": "stdout",
          "text": [
            "namespace InstrumentApp class FindInstrumentTester { public static void testInstrumentSearch ( ) { Inventory inventory = new Inventory ( ) ; initializeInventory ( inventory ) ; Dictionary < string , object > guitarSpec = new Dictionary < string , object > { { \" instrumentType \" , InstrumentType . Guitar } , { \" builder \" , Builder . Fender } , { \" model \" , \" Stratocastor \" } , { \" type \" , Type . electric } , { \" topWood \" , Wood . Alder } , { \" backWood \" , Wood . Adirondack } , { \" numStrings \" , 6 }\n"
          ]
        }
      ]
    },
    {
      "cell_type": "code",
      "source": [
        "len(train_data)\n"
      ],
      "metadata": {
        "colab": {
          "base_uri": "https://localhost:8080/"
        },
        "id": "OLz4Hb9_bksW",
        "outputId": "78bd5f61-9693-4bcb-c438-209771b290a0"
      },
      "execution_count": 157,
      "outputs": [
        {
          "output_type": "execute_result",
          "data": {
            "text/plain": [
              "8882"
            ]
          },
          "metadata": {},
          "execution_count": 157
        }
      ]
    },
    {
      "cell_type": "code",
      "source": [
        "def batch_generator(train_data, train_labels, batch_size, token_size):\n",
        "    \"\"\"Yield elements from data in chunks with a maximum of batch_size sequences and token_size tokens.\"\"\"\n",
        "    batch = []\n",
        "    labels = []\n",
        "    train_x, train_y = shuffle(train_data, train_labels, random_state = 42)\n",
        "    for (text,label) in zip(train_data, train_labels):\n",
        "      tokenized = text_to_tensor(text, vocab)\n",
        "      #print( tokenized.shape )\n",
        "\n",
        "      if len(tokenized) > token_size:\n",
        "        tokenized = tokenized[:token_size]\n",
        "      else:\n",
        "        padding_size = token_size-len(tokenized)\n",
        "        tokenized = torch.cat([tokenized, torch.tensor([vocab.word_to_idx['<UNK>']] * padding_size, dtype=torch.int64)] )\n",
        "\n",
        "      batch.append( tokenized )\n",
        "      labels.append( label )\n",
        "\n",
        "      if isinstance( batch[-1] , int ):\n",
        "        print( text, label )\n",
        "\n",
        "      if len(batch) == batch_size:\n",
        "        yield (batch,labels)\n",
        "        batch = []\n",
        "        labels = []\n",
        "\n",
        "    if len(batch):\n",
        "      yield (batch,labels)\n",
        "      batch = []\n",
        "      labels = []"
      ],
      "metadata": {
        "id": "Nmm96QorMeH8"
      },
      "execution_count": 158,
      "outputs": []
    },
    {
      "cell_type": "code",
      "source": [
        "# ############################## PARAMETERS ######################################\n",
        "learning_rate = 0.001\n",
        "rnn_model = 'gru'\n",
        "rnn_layers = 1\n",
        "\n",
        "_hyperparameters_dict = {\n",
        "    \"batch_size\": 32,\n",
        "    \"num_epochs\": 20,\n",
        "    \"max_len\": 256,\n",
        "    \"embedding_size\": 200, \n",
        "    \"hidden_size\": 256,\n",
        "    \"rnn_layers\": rnn_layers,\n",
        "    \"rnn_model\": rnn_model,\n",
        "    \"bidirectional\": True,\n",
        "    \"learning_algo\": \"adam\",\n",
        "    \"learning_rate\": learning_rate,\n",
        "    \"dropout\": 0.2,\n",
        "    \"max_grad_norm\": 10.0\n",
        "}\n",
        "\n",
        "#for character embedding\n",
        "# _hyperparameters_dict = {\n",
        "#     \"batch_size\": 32,\n",
        "#     \"num_epochs\": 20,\n",
        "#     \"max_len\": 250,\n",
        "#     \"embedding_size\": 100, \n",
        "#     \"hidden_size\": 256,\n",
        "#     \"rnn_layers\": rnn_layers,\n",
        "#     \"rnn_model\": rnn_model,\n",
        "#     \"bidirectional\": True,\n",
        "#     \"learning_algo\": \"adam\",\n",
        "#     \"learning_rate\": learning_rate,\n",
        "#     \"dropout\": 0.4,\n",
        "#     \"weight_decay\": 0.01,\n",
        "#     \"max_grad_norm\": 5.0\n",
        "# }"
      ],
      "metadata": {
        "id": "3oEXjE1NoziO"
      },
      "execution_count": 159,
      "outputs": []
    },
    {
      "cell_type": "code",
      "source": [
        "class RNNClassifier(nn.Module):\n",
        "  def __init__(self, vocab_size, embedding_size, hidden_size, num_layers, num_classes, rnn='gru', bidirectional=False):\n",
        "    super().__init__()\n",
        "    self.vocab_size = vocab_size\n",
        "    self.hidden_size = hidden_size\n",
        "    self.num_layers = num_layers\n",
        "    \n",
        "    self.embedding = nn.Embedding(num_embeddings = vocab_size, \n",
        "                                  embedding_dim = embedding_size)\n",
        "        \n",
        "    \n",
        "    if rnn == \"gru\":\n",
        "      self.rnn_model = torch.nn.GRU(embedding_size, hidden_size, num_layers, bidirectional=bidirectional)\n",
        "    elif rnn ==\"lstm\":\n",
        "      self.rnn_model = torch.nn.LSTM(embedding_size, hidden_size, num_layers, bidirectional=bidirectional)\n",
        "    else: self.rnn_model = nn.RNN(embedding_size, hidden_size, num_layers, bidirectional=bidirectional) \n",
        "    \n",
        "    self.dropout = nn.Dropout(p=_hyperparameters_dict[\"dropout\"])\n",
        "\n",
        "    if bidirectional == False:\n",
        "      self.output_layer = nn.Linear( hidden_size, num_classes)\n",
        "    else:\n",
        "       self.output_layer = nn.Linear( hidden_size*2, num_classes)\n",
        "\n",
        "  def forward(self, x, h=None):\n",
        "  \n",
        "    encoded = self.embedding(x)\n",
        "    \n",
        "    hidden_states, _ = self.rnn_model(encoded, h)\n",
        "    \n",
        "    dropout_hidden_states = self.dropout(hidden_states)\n",
        "    out = self.output_layer(dropout_hidden_states)  \n",
        "    \n",
        "    predictions = torch.mean(out,dim=1)\n",
        "    predictions = nn.Softmax(dim=1)(predictions)\n",
        "\n",
        "    return predictions"
      ],
      "metadata": {
        "id": "AwALUfmeiqrh"
      },
      "execution_count": 161,
      "outputs": []
    },
    {
      "cell_type": "code",
      "source": [
        "num_classes = 6\n",
        "network = RNNClassifier(vocab.size(),\n",
        "                          _hyperparameters_dict[\"embedding_size\"],\n",
        "                          _hyperparameters_dict[\"hidden_size\"],\n",
        "                          _hyperparameters_dict[\"rnn_layers\"],\n",
        "                          num_classes,\n",
        "                          _hyperparameters_dict[\"rnn_model\"],\n",
        "                          _hyperparameters_dict[\"bidirectional\"])\n",
        "\n",
        "network = network.to(device)\n",
        "\n",
        "criterion = nn.CrossEntropyLoss()"
      ],
      "metadata": {
        "id": "fmZvTh_fTkCo"
      },
      "execution_count": 162,
      "outputs": []
    },
    {
      "cell_type": "code",
      "source": [
        "network.train()"
      ],
      "metadata": {
        "id": "yO79ZA4CtCY7",
        "colab": {
          "base_uri": "https://localhost:8080/"
        },
        "outputId": "daf72446-d998-4980-c33e-da2120e062af"
      },
      "execution_count": 163,
      "outputs": [
        {
          "output_type": "execute_result",
          "data": {
            "text/plain": [
              "RNNClassifier(\n",
              "  (embedding): Embedding(92521, 200)\n",
              "  (rnn_model): GRU(200, 256, bidirectional=True)\n",
              "  (dropout): Dropout(p=0.2, inplace=False)\n",
              "  (output_layer): Linear(in_features=512, out_features=6, bias=True)\n",
              ")"
            ]
          },
          "metadata": {},
          "execution_count": 163
        }
      ]
    },
    {
      "cell_type": "code",
      "source": [
        "set(train_labels)"
      ],
      "metadata": {
        "colab": {
          "base_uri": "https://localhost:8080/"
        },
        "id": "f1VhsoJqz48l",
        "outputId": "e903b6de-6c08-44c1-af53-52962090c582"
      },
      "execution_count": 164,
      "outputs": [
        {
          "output_type": "execute_result",
          "data": {
            "text/plain": [
              "{0, 1, 2, 3, 4, 5}"
            ]
          },
          "metadata": {},
          "execution_count": 164
        }
      ]
    },
    {
      "cell_type": "code",
      "source": [
        "class Trainer:\n",
        "    def __init__(self, model: nn.Module, \n",
        "                 train_data: torch.LongTensor, \n",
        "                 train_labels: torch.LongTensor,\n",
        "                 val_data: torch.LongTensor,\n",
        "                 val_labels: torch.LongTensor,\n",
        "                 vocab: Vocabulary, \n",
        "                 hyperparams: Dict):\n",
        "        self.model = model\n",
        "        self.train_data = train_data\n",
        "        self.val_data = val_data\n",
        "        self.train_labels = train_labels\n",
        "        self.val_labels = val_labels\n",
        "        self.vocab = vocab\n",
        "        if hyperparams['learning_algo'] == 'adam':\n",
        "            self.optimizer = Adam(params = self.model.parameters(),\n",
        "                                  lr = hyperparams['learning_rate'])\n",
        "        else:\n",
        "            self.optimizer = SGD(params = self.model.parameters(), \n",
        "                                 lr = hyperparams['learning_rate'])\n",
        "            \n",
        "        self.num_epochs = hyperparams['num_epochs']\n",
        "        self.max_len = hyperparams['max_len']\n",
        "        self.batch_size = hyperparams['batch_size']\n",
        "        self.hidden_size = hyperparams['hidden_size']\n",
        "        self.max_grad_norm = hyperparams['max_grad_norm']\n",
        "        \n",
        "        #number of characters in training/dev data\n",
        "        self.train_size = len(train_data)\n",
        "        self.val_size = len(val_data)\n",
        "        \n",
        "    def train_epoch(self, epoch_num: int) -> float:\n",
        "        \"\"\"\n",
        "        Compute the loss on the training set\n",
        "        :param epoch_num: number of current epoch\n",
        "        \"\"\"\n",
        "        self.model.train()\n",
        "        epoch_loss = 0.0\n",
        "\n",
        "        predicted_labels = []\n",
        "\n",
        "        for batch_num, batch in enumerate(batch_generator(self.train_data, self.train_labels,\n",
        "                                                          self.batch_size, self.max_len)):\n",
        "            #print( batch_num)\n",
        "            X = torch.stack( batch[0]).to(device) \n",
        "            Y = torch.tensor( batch[1]).to(device)\n",
        "            # reset gradients\n",
        "            self.optimizer.zero_grad()\n",
        "\n",
        "            output = self.model(X)\n",
        "\n",
        "            predicted_labels += output.argmax(dim=1).tolist()\n",
        "\n",
        "            batch_loss = criterion( output, Y )\n",
        "            batch_loss.backward()\n",
        "            \n",
        "            # clip gradients if they get too large\n",
        "            torch.nn.utils.clip_grad_norm_(list(self.model.parameters()), \n",
        "                                           self.max_grad_norm)\n",
        "            \n",
        "            # update parameters\n",
        "            self.optimizer.step()\n",
        "\n",
        "            epoch_loss += batch_loss.item()\n",
        "            batch_accuracy = accuracy_score( batch[1], output.argmax(dim=1).tolist() )\n",
        "\n",
        "            #if batch_num % 10 == 0:\n",
        "                #print(\"epoch %d, batch %d, batch loss = %f, batch accuracy = %f\"\n",
        "                #      % (epoch_num, batch_num+1, \n",
        "                #         batch_loss.item(), batch_accuracy))\n",
        "   \n",
        "        epoch_loss /= (batch_num + 1)\n",
        "        \n",
        "        epoch_accuracy = accuracy_score(self.train_labels, predicted_labels)\n",
        "        return epoch_loss, epoch_accuracy\n",
        "\n",
        "    def eval_epoch(self, epoch_num: int) -> float:\n",
        "        \"\"\"\n",
        "        Compute the loss on the validation set\n",
        "        :param epoch_num: number of current epoch\n",
        "        \"\"\"\n",
        "        epoch_loss = 0.0\n",
        "        self.model.eval()\n",
        "\n",
        "        predicted_labels = []\n",
        "        with torch.no_grad():\n",
        "           for batch_num, batch in enumerate(batch_generator(self.val_data, self.val_labels,\n",
        "                                                          self.batch_size, self.max_len)):\n",
        "                X = torch.stack( batch[0]).to(device) \n",
        "                Y = torch.tensor( batch[1]).to(device)\n",
        "\n",
        "                output = self.model(X)\n",
        "                \n",
        "                predicted_labels += output.argmax(dim=1).tolist()\n",
        "\n",
        "                batch_loss = criterion( output, Y )\n",
        "                epoch_loss += batch_loss.item()\n",
        "\n",
        "        epoch_loss /= (batch_num + 1)\n",
        "        \n",
        "        epoch_accuracy = accuracy_score(self.val_labels, predicted_labels)\n",
        "        return epoch_loss, epoch_accuracy   \n",
        "            \n",
        "    def train(self) -> Dict:\n",
        "        train_losses, val_losses = [], []\n",
        "        train_accuracies, val_accuracies = [], []\n",
        "        for epoch in range(self.num_epochs):\n",
        "            epoch_train_loss, epoch_train_accuracy = self.train_epoch(epoch)\n",
        "            epoch_val_loss, epoch_val_accuracy = self.eval_epoch(epoch)\n",
        "            train_losses.append(epoch_train_loss)\n",
        "            val_losses.append(epoch_val_loss)\n",
        "            train_accuracies.append(epoch_train_accuracy)\n",
        "            val_accuracies.append(epoch_val_accuracy)\n",
        "            print(\"epoch %d, train loss %f, val loss = %f, train accuracy = %f, val accuracy = %f\"\n",
        "                     % (epoch, epoch_train_loss, epoch_val_loss, \n",
        "                        epoch_train_accuracy, epoch_val_accuracy))\n",
        "        return {\"train_losses\": train_losses,\n",
        "                \"val_losses\": val_losses,\n",
        "                \"train_accuracies\": train_accuracies,\n",
        "                \"val_accuracies\": val_accuracies}\n",
        "\n",
        "def plot_metrics(metrics: Dict):\n",
        "    \"\"\"\n",
        "    Plots training/validation losses.\n",
        "    :param metrics: dictionar\n",
        "    \"\"\"\n",
        "    plt.figure()\n",
        "    plt.plot(metrics['train_losses'], c='b', label='Train Loss')\n",
        "    plt.plot(metrics['val_losses'], c='g', label='Validation Loss')\n",
        "    plt.ylabel('Loss')\n",
        "    plt.xlabel('Iteration')\n",
        "    plt.legend()\n",
        "    plt.savefig(model_path+'_loss.png')\n",
        "    plt.show()\n",
        "\n",
        "    plt.figure()\n",
        "    plt.plot(metrics['train_accuracies'], c='r', label='Train Accuracy')\n",
        "    plt.plot(metrics['val_accuracies'], c='m', label='Validation Accuracy')\n",
        "    plt.ylabel('Accuracy')\n",
        "    plt.xlabel('Iteration')\n",
        "    plt.legend()\n",
        "    plt.savefig(model_path+'_accuracy.png')\n",
        "    plt.show()"
      ],
      "metadata": {
        "id": "ZokO5zH5romy"
      },
      "execution_count": 165,
      "outputs": []
    },
    {
      "cell_type": "code",
      "source": [
        "def predict(model: nn.Module, \n",
        "            test_data: torch.LongTensor, \n",
        "            test_labels: torch.LongTensor,):\n",
        "  \n",
        "  predicted_labels = []\n",
        "  \n",
        "  model.eval()\n",
        "  with torch.no_grad():\n",
        "      for batch_num, batch in enumerate(batch_generator(test_data, test_labels,\n",
        "                                                    _hyperparameters_dict['batch_size'],\n",
        "                                                    _hyperparameters_dict['max_len'])):\n",
        "          X = torch.stack( batch[0]).to(device) \n",
        "\n",
        "          predicted_labels += model(X).argmax(dim=1).tolist()\n",
        "\n",
        "  true_labels = [label_dict[label] for label in test_labels]\n",
        "  accuracy = accuracy_score(true_labels, predicted_labels)\n",
        "  print(\"Accuracy:\", accuracy)\n",
        "\n",
        "  cm = confusion_matrix(true_labels, predicted_labels)\n",
        "  display_labels = [label_dict[idx] for idx in range(6)]\n",
        "  cm_display = ConfusionMatrixDisplay(confusion_matrix = cm, display_labels = display_labels)\n",
        "\n",
        "  cm_display.plot()\n",
        "  plt.xlabel('Predicted labels')\n",
        "  plt.ylabel('True labels')\n",
        "  plt.title('Confusion Matrix')\n",
        "  #plt.show()\n",
        "\n",
        "  return accuracy"
      ],
      "metadata": {
        "id": "12Q7E1ccJXOR"
      },
      "execution_count": 166,
      "outputs": []
    },
    {
      "cell_type": "code",
      "source": [
        "trainer = Trainer(network, train_data, train_labels, val_data, val_labels,\n",
        "                  vocab, _hyperparameters_dict)\n",
        "metrics = trainer.train()"
      ],
      "metadata": {
        "id": "lknhQuu0ajJD",
        "colab": {
          "base_uri": "https://localhost:8080/"
        },
        "outputId": "acadaa0b-b97b-4566-b491-5efba3f9c5b7"
      },
      "execution_count": 167,
      "outputs": [
        {
          "output_type": "stream",
          "name": "stdout",
          "text": [
            "epoch 0, train loss 1.457717, val loss = 1.332587, train accuracy = 0.603693, val accuracy = 0.742008\n",
            "epoch 1, train loss 1.207003, val loss = 1.159837, train accuracy = 0.871425, val accuracy = 0.911751\n",
            "epoch 2, train loss 1.113603, val loss = 1.120790, train accuracy = 0.951475, val accuracy = 0.941018\n",
            "epoch 3, train loss 1.083154, val loss = 1.105905, train accuracy = 0.972416, val accuracy = 0.955876\n",
            "epoch 4, train loss 1.069542, val loss = 1.097569, train accuracy = 0.981198, val accuracy = 0.959928\n",
            "epoch 5, train loss 1.062663, val loss = 1.092443, train accuracy = 0.985476, val accuracy = 0.962629\n",
            "epoch 6, train loss 1.058944, val loss = 1.088534, train accuracy = 0.987841, val accuracy = 0.966231\n",
            "epoch 7, train loss 1.056262, val loss = 1.087586, train accuracy = 0.989417, val accuracy = 0.963530\n",
            "epoch 8, train loss 1.054076, val loss = 1.086984, train accuracy = 0.991218, val accuracy = 0.964430\n",
            "epoch 9, train loss 1.052361, val loss = 1.083411, train accuracy = 0.992457, val accuracy = 0.968933\n",
            "epoch 10, train loss 1.051207, val loss = 1.082436, train accuracy = 0.993132, val accuracy = 0.970284\n",
            "epoch 11, train loss 1.050579, val loss = 1.083506, train accuracy = 0.993583, val accuracy = 0.968032\n",
            "epoch 12, train loss 1.049838, val loss = 1.080754, train accuracy = 0.994145, val accuracy = 0.969833\n",
            "epoch 13, train loss 1.049500, val loss = 1.079910, train accuracy = 0.994371, val accuracy = 0.971634\n",
            "epoch 14, train loss 1.049354, val loss = 1.079669, train accuracy = 0.994371, val accuracy = 0.971634\n",
            "epoch 15, train loss 1.049233, val loss = 1.081822, train accuracy = 0.994483, val accuracy = 0.967132\n",
            "epoch 16, train loss 1.048956, val loss = 1.077872, train accuracy = 0.994708, val accuracy = 0.972985\n",
            "epoch 17, train loss 1.048703, val loss = 1.077110, train accuracy = 0.994934, val accuracy = 0.973886\n",
            "epoch 18, train loss 1.048670, val loss = 1.076849, train accuracy = 0.994934, val accuracy = 0.972985\n",
            "epoch 19, train loss 1.048515, val loss = 1.076309, train accuracy = 0.995046, val accuracy = 0.972985\n"
          ]
        }
      ]
    },
    {
      "cell_type": "code",
      "source": [
        "model_path = 'model-'+str(rnn_layers)+rnn_model+'-lr'+str(learning_rate)\n",
        "\n",
        "torch.save(network.state_dict(), model_path+'.pth')\n",
        "torch.save(network, model_path+'.pt')"
      ],
      "metadata": {
        "id": "f4kxxWh35nOO"
      },
      "execution_count": 168,
      "outputs": []
    },
    {
      "cell_type": "code",
      "source": [
        "plot_metrics(metrics)"
      ],
      "metadata": {
        "id": "yfyNBRLeauwS",
        "colab": {
          "base_uri": "https://localhost:8080/",
          "height": 881
        },
        "outputId": "09c0e187-abae-4c5a-95b4-3e3263a6b76f"
      },
      "execution_count": 169,
      "outputs": [
        {
          "output_type": "display_data",
          "data": {
            "text/plain": [
              "<Figure size 640x480 with 1 Axes>"
            ],
            "image/png": "[encoded data removed]"
          },
          "metadata": {}
        },
        {
          "output_type": "display_data",
          "data": {
            "text/plain": [
              "<Figure size 640x480 with 1 Axes>"
            ],
            "image/png": "[encoded data removed]"
          },
          "metadata": {}
        }
      ]
    },
    {
      "cell_type": "code",
      "source": [
        "predict(network, test_data, test_labels )"
      ],
      "metadata": {
        "id": "YIgcORazJgWn",
        "colab": {
          "base_uri": "https://localhost:8080/",
          "height": 507
        },
        "outputId": "f47897d6-0dea-41bd-dac8-98167b8d61e3"
      },
      "execution_count": 170,
      "outputs": [
        {
          "output_type": "stream",
          "name": "stdout",
          "text": [
            "Accuracy: 0.9662771285475793\n"
          ]
        },
        {
          "output_type": "execute_result",
          "data": {
            "text/plain": [
              "0.9662771285475793"
            ]
          },
          "metadata": {},
          "execution_count": 170
        },
        {
          "output_type": "display_data",
          "data": {
            "text/plain": [
              "<Figure size 640x480 with 2 Axes>"
            ],
            "image/png": "[encoded data removed]"
          },
          "metadata": {}
        }
      ]
    }
  ]
}